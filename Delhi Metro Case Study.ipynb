{
 "cells": [
  {
   "cell_type": "code",
   "execution_count": 1,
   "id": "bb4a1751",
   "metadata": {},
   "outputs": [],
   "source": [
    "import pandas as pd\n",
    "import numpy as np\n",
    "import matplotlib.pyplot as plt\n",
    "import seaborn as sns\n",
    "from scipy.optimize import curve_fit"
   ]
  },
  {
   "cell_type": "code",
   "execution_count": 3,
   "id": "286be4fb",
   "metadata": {},
   "outputs": [
    {
     "data": {
      "text/html": [
       "<div>\n",
       "<style scoped>\n",
       "    .dataframe tbody tr th:only-of-type {\n",
       "        vertical-align: middle;\n",
       "    }\n",
       "\n",
       "    .dataframe tbody tr th {\n",
       "        vertical-align: top;\n",
       "    }\n",
       "\n",
       "    .dataframe thead th {\n",
       "        text-align: right;\n",
       "    }\n",
       "</style>\n",
       "<table border=\"1\" class=\"dataframe\">\n",
       "  <thead>\n",
       "    <tr style=\"text-align: right;\">\n",
       "      <th></th>\n",
       "      <th>Station ID</th>\n",
       "      <th>Station Name</th>\n",
       "      <th>Distance from Start (km)</th>\n",
       "      <th>Line</th>\n",
       "      <th>Opening Date</th>\n",
       "      <th>Station Layout</th>\n",
       "      <th>Latitude</th>\n",
       "      <th>Longitude</th>\n",
       "    </tr>\n",
       "  </thead>\n",
       "  <tbody>\n",
       "    <tr>\n",
       "      <th>0</th>\n",
       "      <td>1</td>\n",
       "      <td>Jhil Mil</td>\n",
       "      <td>10.3</td>\n",
       "      <td>Red line</td>\n",
       "      <td>2008-04-06</td>\n",
       "      <td>Elevated</td>\n",
       "      <td>28.675790</td>\n",
       "      <td>77.312390</td>\n",
       "    </tr>\n",
       "    <tr>\n",
       "      <th>1</th>\n",
       "      <td>2</td>\n",
       "      <td>Welcome [Conn: Red]</td>\n",
       "      <td>46.8</td>\n",
       "      <td>Pink line</td>\n",
       "      <td>2018-10-31</td>\n",
       "      <td>Elevated</td>\n",
       "      <td>28.671800</td>\n",
       "      <td>77.277560</td>\n",
       "    </tr>\n",
       "    <tr>\n",
       "      <th>2</th>\n",
       "      <td>3</td>\n",
       "      <td>DLF Phase 3</td>\n",
       "      <td>10.0</td>\n",
       "      <td>Rapid Metro</td>\n",
       "      <td>2013-11-14</td>\n",
       "      <td>Elevated</td>\n",
       "      <td>28.493600</td>\n",
       "      <td>77.093500</td>\n",
       "    </tr>\n",
       "    <tr>\n",
       "      <th>3</th>\n",
       "      <td>4</td>\n",
       "      <td>Okhla NSIC</td>\n",
       "      <td>23.8</td>\n",
       "      <td>Magenta line</td>\n",
       "      <td>2017-12-25</td>\n",
       "      <td>Elevated</td>\n",
       "      <td>28.554483</td>\n",
       "      <td>77.264849</td>\n",
       "    </tr>\n",
       "    <tr>\n",
       "      <th>4</th>\n",
       "      <td>5</td>\n",
       "      <td>Dwarka Mor</td>\n",
       "      <td>10.2</td>\n",
       "      <td>Blue line</td>\n",
       "      <td>2005-12-30</td>\n",
       "      <td>Elevated</td>\n",
       "      <td>28.619320</td>\n",
       "      <td>77.033260</td>\n",
       "    </tr>\n",
       "  </tbody>\n",
       "</table>\n",
       "</div>"
      ],
      "text/plain": [
       "   Station ID         Station Name  Distance from Start (km)          Line  \\\n",
       "0           1             Jhil Mil                      10.3      Red line   \n",
       "1           2  Welcome [Conn: Red]                      46.8     Pink line   \n",
       "2           3          DLF Phase 3                      10.0   Rapid Metro   \n",
       "3           4           Okhla NSIC                      23.8  Magenta line   \n",
       "4           5           Dwarka Mor                      10.2     Blue line   \n",
       "\n",
       "  Opening Date Station Layout   Latitude  Longitude  \n",
       "0   2008-04-06       Elevated  28.675790  77.312390  \n",
       "1   2018-10-31       Elevated  28.671800  77.277560  \n",
       "2   2013-11-14       Elevated  28.493600  77.093500  \n",
       "3   2017-12-25       Elevated  28.554483  77.264849  \n",
       "4   2005-12-30       Elevated  28.619320  77.033260  "
      ]
     },
     "execution_count": 3,
     "metadata": {},
     "output_type": "execute_result"
    }
   ],
   "source": [
    "metro_df=pd.read_csv(r\"C:\\Users\\FW154GQ\\OneDrive - EY\\Desktop\\Personal\\Delhi-Metro-Network.csv\")\n",
    "metro_df.head()"
   ]
  },
  {
   "cell_type": "code",
   "execution_count": 7,
   "id": "08d16840",
   "metadata": {},
   "outputs": [
    {
     "data": {
      "text/plain": [
       "283"
      ]
     },
     "execution_count": 7,
     "metadata": {},
     "output_type": "execute_result"
    }
   ],
   "source": [
    "metro_df['Station Name'].unique().size"
   ]
  },
  {
   "cell_type": "code",
   "execution_count": 10,
   "id": "2835df9e",
   "metadata": {},
   "outputs": [],
   "source": [
    "line_wise_stations=metro_df['Line'].value_counts()"
   ]
  },
  {
   "cell_type": "code",
   "execution_count": 13,
   "id": "5d476004",
   "metadata": {},
   "outputs": [
    {
     "data": {
      "text/plain": [
       "13"
      ]
     },
     "execution_count": 13,
     "metadata": {},
     "output_type": "execute_result"
    }
   ],
   "source": [
    "#no. of lines on delhi metro\n",
    "line_wise_stations.index.size"
   ]
  },
  {
   "cell_type": "code",
   "execution_count": 14,
   "id": "03c31489",
   "metadata": {},
   "outputs": [
    {
     "data": {
      "text/plain": [
       "Line\n",
       "Blue line            49\n",
       "Pink line            38\n",
       "Yellow line          37\n",
       "Voilet line          34\n",
       "Red line             29\n",
       "Magenta line         25\n",
       "Aqua line            21\n",
       "Green line           21\n",
       "Rapid Metro          11\n",
       "Blue line branch      8\n",
       "Orange line           6\n",
       "Gray line             3\n",
       "Green line branch     3\n",
       "Name: count, dtype: int64"
      ]
     },
     "execution_count": 14,
     "metadata": {},
     "output_type": "execute_result"
    }
   ],
   "source": [
    "line_wise_stations"
   ]
  },
  {
   "cell_type": "code",
   "execution_count": 31,
   "id": "1888900e",
   "metadata": {},
   "outputs": [
    {
     "data": {
      "text/plain": [
       "Line               Station Layout\n",
       "Blue line          Elevated          44\n",
       "Red line           Elevated          29\n",
       "Pink line          Elevated          26\n",
       "Voilet line        Elevated          23\n",
       "Aqua line          Elevated          21\n",
       "Green line         Elevated          21\n",
       "Yellow line        Underground       20\n",
       "                   Elevated          17\n",
       "Magenta line       Underground       15\n",
       "Pink line          Underground       12\n",
       "Rapid Metro        Elevated          11\n",
       "Voilet line        Underground       11\n",
       "Magenta line       Elevated          10\n",
       "Blue line branch   Elevated           7\n",
       "Orange line        Underground        5\n",
       "Blue line          Underground        4\n",
       "Gray line          Elevated           2\n",
       "Green line branch  Elevated           2\n",
       "Gray line          Underground        1\n",
       "Green line branch  At-Grade           1\n",
       "Blue line          At-Grade           1\n",
       "Orange line        Elevated           1\n",
       "Blue line branch   At-Grade           1\n",
       "dtype: int64"
      ]
     },
     "execution_count": 31,
     "metadata": {},
     "output_type": "execute_result"
    }
   ],
   "source": [
    "station_layout=metro_df.groupby(['Line','Station Layout']).size().sort_values(ascending=False)\n",
    "station_layout"
   ]
  },
  {
   "cell_type": "code",
   "execution_count": 73,
   "id": "19964c40",
   "metadata": {},
   "outputs": [
    {
     "name": "stdout",
     "output_type": "stream",
     "text": [
      "The maximum distance on the Red line is 32.7\n",
      "The maximum distance on the Pink line is 52.6\n",
      "The maximum distance on the Rapid Metro is 10.0\n",
      "The maximum distance on the Magenta line is 33.1\n",
      "The maximum distance on the Blue line is 52.7\n",
      "The maximum distance on the Aqua line is 27.1\n",
      "The maximum distance on the Voilet line is 43.5\n",
      "The maximum distance on the Yellow line is 45.7\n",
      "The maximum distance on the Green line is 24.8\n",
      "The maximum distance on the Gray line is 3.9\n",
      "The maximum distance on the Orange line is 20.8\n",
      "The maximum distance on the Green line branch is 2.1\n",
      "The maximum distance on the Blue line branch is 8.1\n"
     ]
    }
   ],
   "source": [
    "#computing which line has the highest coverage from its starting point\n",
    "lines=list(metro_df['Line'].unique())\n",
    "for line in lines:\n",
    "    dt=metro_df[metro_df['Line']==line]['Distance from Start (km)'].max()\n",
    "    print(\"The maximum distance on the {a} is {b}\".format(a=line,b=dt))"
   ]
  },
  {
   "cell_type": "code",
   "execution_count": 176,
   "id": "e5b9330c",
   "metadata": {},
   "outputs": [
    {
     "data": {
      "text/plain": [
       "Line\n",
       "Aqua line            27.1\n",
       "Blue line            52.7\n",
       "Blue line branch      8.1\n",
       "Gray line             3.9\n",
       "Green line           24.8\n",
       "Green line branch     2.1\n",
       "Magenta line         33.1\n",
       "Orange line          20.8\n",
       "Pink line            52.6\n",
       "Rapid Metro          10.0\n",
       "Red line             32.7\n",
       "Voilet line          43.5\n",
       "Yellow line          45.7\n",
       "Name: Distance from Start (km), dtype: float64"
      ]
     },
     "execution_count": 176,
     "metadata": {},
     "output_type": "execute_result"
    }
   ],
   "source": [
    "#alternate way\n",
    "line_coverage=metro_df.groupby('Line')['Distance from Start (km)'].max()\n",
    "line_coverage"
   ]
  },
  {
   "cell_type": "code",
   "execution_count": 179,
   "id": "6271d774",
   "metadata": {},
   "outputs": [],
   "source": [
    "line_wise_stations\n",
    "line_breakdown=pd.DataFrame({'Line': line_wise_stations.index,\n",
    "             'No. of stations': line_wise_stations.values,\n",
    "              'Average Distance': average_distance.values.round(2)})"
   ]
  },
  {
   "cell_type": "code",
   "execution_count": 180,
   "id": "6f1b32ff",
   "metadata": {},
   "outputs": [
    {
     "data": {
      "text/html": [
       "<div>\n",
       "<style scoped>\n",
       "    .dataframe tbody tr th:only-of-type {\n",
       "        vertical-align: middle;\n",
       "    }\n",
       "\n",
       "    .dataframe tbody tr th {\n",
       "        vertical-align: top;\n",
       "    }\n",
       "\n",
       "    .dataframe thead th {\n",
       "        text-align: right;\n",
       "    }\n",
       "</style>\n",
       "<table border=\"1\" class=\"dataframe\">\n",
       "  <thead>\n",
       "    <tr style=\"text-align: right;\">\n",
       "      <th></th>\n",
       "      <th>Line</th>\n",
       "      <th>No. of stations</th>\n",
       "      <th>Average Distance</th>\n",
       "    </tr>\n",
       "  </thead>\n",
       "  <tbody>\n",
       "    <tr>\n",
       "      <th>0</th>\n",
       "      <td>Blue line</td>\n",
       "      <td>49</td>\n",
       "      <td>1.36</td>\n",
       "    </tr>\n",
       "    <tr>\n",
       "      <th>1</th>\n",
       "      <td>Pink line</td>\n",
       "      <td>38</td>\n",
       "      <td>1.10</td>\n",
       "    </tr>\n",
       "    <tr>\n",
       "      <th>2</th>\n",
       "      <td>Yellow line</td>\n",
       "      <td>37</td>\n",
       "      <td>1.16</td>\n",
       "    </tr>\n",
       "    <tr>\n",
       "      <th>3</th>\n",
       "      <td>Voilet line</td>\n",
       "      <td>34</td>\n",
       "      <td>1.95</td>\n",
       "    </tr>\n",
       "    <tr>\n",
       "      <th>4</th>\n",
       "      <td>Red line</td>\n",
       "      <td>29</td>\n",
       "      <td>1.24</td>\n",
       "    </tr>\n",
       "    <tr>\n",
       "      <th>5</th>\n",
       "      <td>Magenta line</td>\n",
       "      <td>25</td>\n",
       "      <td>1.05</td>\n",
       "    </tr>\n",
       "    <tr>\n",
       "      <th>6</th>\n",
       "      <td>Aqua line</td>\n",
       "      <td>21</td>\n",
       "      <td>1.38</td>\n",
       "    </tr>\n",
       "    <tr>\n",
       "      <th>7</th>\n",
       "      <td>Green line</td>\n",
       "      <td>21</td>\n",
       "      <td>4.16</td>\n",
       "    </tr>\n",
       "    <tr>\n",
       "      <th>8</th>\n",
       "      <td>Rapid Metro</td>\n",
       "      <td>11</td>\n",
       "      <td>1.42</td>\n",
       "    </tr>\n",
       "    <tr>\n",
       "      <th>9</th>\n",
       "      <td>Blue line branch</td>\n",
       "      <td>8</td>\n",
       "      <td>1.00</td>\n",
       "    </tr>\n",
       "    <tr>\n",
       "      <th>10</th>\n",
       "      <td>Orange line</td>\n",
       "      <td>6</td>\n",
       "      <td>1.17</td>\n",
       "    </tr>\n",
       "    <tr>\n",
       "      <th>11</th>\n",
       "      <td>Gray line</td>\n",
       "      <td>3</td>\n",
       "      <td>1.32</td>\n",
       "    </tr>\n",
       "    <tr>\n",
       "      <th>12</th>\n",
       "      <td>Green line branch</td>\n",
       "      <td>3</td>\n",
       "      <td>1.27</td>\n",
       "    </tr>\n",
       "  </tbody>\n",
       "</table>\n",
       "</div>"
      ],
      "text/plain": [
       "                 Line  No. of stations  Average Distance\n",
       "0           Blue line               49              1.36\n",
       "1           Pink line               38              1.10\n",
       "2         Yellow line               37              1.16\n",
       "3         Voilet line               34              1.95\n",
       "4            Red line               29              1.24\n",
       "5        Magenta line               25              1.05\n",
       "6           Aqua line               21              1.38\n",
       "7          Green line               21              4.16\n",
       "8         Rapid Metro               11              1.42\n",
       "9    Blue line branch                8              1.00\n",
       "10        Orange line                6              1.17\n",
       "11          Gray line                3              1.32\n",
       "12  Green line branch                3              1.27"
      ]
     },
     "execution_count": 180,
     "metadata": {},
     "output_type": "execute_result"
    }
   ],
   "source": [
    "line_breakdown"
   ]
  },
  {
   "cell_type": "code",
   "execution_count": 239,
   "id": "c14a46ef",
   "metadata": {},
   "outputs": [
    {
     "data": {
      "image/png": "[encoded data removed]",
      "text/plain": [
       "<Figure size 800x400 with 1 Axes>"
      ]
     },
     "metadata": {},
     "output_type": "display_data"
    }
   ],
   "source": [
    "#Year-wise growth of metro stations\n",
    "metro_df['Opening Date']=pd.to_datetime(metro_df['Opening Date'])\n",
    "metro_df['Year']=metro_df['Opening Date'].dt.year\n",
    "plt.figure(figsize=(8,4))\n",
    "sns.barplot(x=metro_df.groupby('Year')['Station ID'].size().index,\n",
    "            y=metro_df.groupby('Year')['Station ID'].size().values,\n",
    "           color='royalblue')\n",
    "plt.title(\"No. of stations opened each year\")\n",
    "plt.xticks(rotation=45)\n",
    "plt.show()"
   ]
  },
  {
   "cell_type": "code",
   "execution_count": 208,
   "id": "39b17b72",
   "metadata": {},
   "outputs": [
    {
     "data": {
      "text/plain": [
       "['Elevated', 'Underground', 'At-Grade']"
      ]
     },
     "execution_count": 208,
     "metadata": {},
     "output_type": "execute_result"
    }
   ],
   "source": [
    "layouts"
   ]
  },
  {
   "cell_type": "code",
   "execution_count": 220,
   "id": "bd1edb15",
   "metadata": {},
   "outputs": [
    {
     "data": {
      "text/html": [
       "<div>\n",
       "<style scoped>\n",
       "    .dataframe tbody tr th:only-of-type {\n",
       "        vertical-align: middle;\n",
       "    }\n",
       "\n",
       "    .dataframe tbody tr th {\n",
       "        vertical-align: top;\n",
       "    }\n",
       "\n",
       "    .dataframe thead th {\n",
       "        text-align: right;\n",
       "    }\n",
       "</style>\n",
       "<table border=\"1\" class=\"dataframe\">\n",
       "  <thead>\n",
       "    <tr style=\"text-align: right;\">\n",
       "      <th></th>\n",
       "      <th>Station ID</th>\n",
       "      <th>Station Name</th>\n",
       "      <th>Distance from Start (km)</th>\n",
       "      <th>Line</th>\n",
       "      <th>Opening Date</th>\n",
       "      <th>Station Layout</th>\n",
       "      <th>Latitude</th>\n",
       "      <th>Longitude</th>\n",
       "      <th>Year</th>\n",
       "    </tr>\n",
       "  </thead>\n",
       "  <tbody>\n",
       "    <tr>\n",
       "      <th>81</th>\n",
       "      <td>82</td>\n",
       "      <td>Satguru Ram Singh Marg</td>\n",
       "      <td>1.1</td>\n",
       "      <td>Green line branch</td>\n",
       "      <td>2011-08-24</td>\n",
       "      <td>Elevated</td>\n",
       "      <td>28.66199</td>\n",
       "      <td>77.15748</td>\n",
       "      <td>2011</td>\n",
       "    </tr>\n",
       "    <tr>\n",
       "      <th>111</th>\n",
       "      <td>112</td>\n",
       "      <td>Kirti Nagar [Conn: Blue]</td>\n",
       "      <td>2.1</td>\n",
       "      <td>Green line branch</td>\n",
       "      <td>2011-08-27</td>\n",
       "      <td>At-Grade</td>\n",
       "      <td>28.65575</td>\n",
       "      <td>77.15057</td>\n",
       "      <td>2011</td>\n",
       "    </tr>\n",
       "    <tr>\n",
       "      <th>196</th>\n",
       "      <td>197</td>\n",
       "      <td>Ashok Park Main</td>\n",
       "      <td>0.0</td>\n",
       "      <td>Green line branch</td>\n",
       "      <td>2010-02-04</td>\n",
       "      <td>Elevated</td>\n",
       "      <td>28.67292</td>\n",
       "      <td>77.14420</td>\n",
       "      <td>2010</td>\n",
       "    </tr>\n",
       "  </tbody>\n",
       "</table>\n",
       "</div>"
      ],
      "text/plain": [
       "     Station ID              Station Name  Distance from Start (km)  \\\n",
       "81           82    Satguru Ram Singh Marg                       1.1   \n",
       "111         112  Kirti Nagar [Conn: Blue]                       2.1   \n",
       "196         197           Ashok Park Main                       0.0   \n",
       "\n",
       "                  Line Opening Date Station Layout  Latitude  Longitude  Year  \n",
       "81   Green line branch   2011-08-24       Elevated  28.66199   77.15748  2011  \n",
       "111  Green line branch   2011-08-27       At-Grade  28.65575   77.15057  2011  \n",
       "196  Green line branch   2010-02-04       Elevated  28.67292   77.14420  2010  "
      ]
     },
     "execution_count": 220,
     "metadata": {},
     "output_type": "execute_result"
    }
   ],
   "source": [
    "metro_df[metro_df['Line']=='Green line branch']"
   ]
  },
  {
   "cell_type": "code",
   "execution_count": 238,
   "id": "995863fd",
   "metadata": {},
   "outputs": [
    {
     "data": {
      "image/png": "[encoded data removed]",
      "text/plain": [
       "<Figure size 640x480 with 1 Axes>"
      ]
     },
     "metadata": {},
     "output_type": "display_data"
    }
   ],
   "source": [
    "layout_wise=metro_df.groupby('Station Layout')['Station ID'].size().sort_values(ascending=False)\n",
    "sns.barplot(x=layout_wise.index,y=layout_wise.values,palette='magma',hue=layout_wise.index,dodge=False)\n",
    "plt.title(\"Layouts of Metro Station\")\n",
    "plt.legend()\n",
    "plt.show()"
   ]
  },
  {
   "cell_type": "code",
   "execution_count": 245,
   "id": "d7d35cad",
   "metadata": {},
   "outputs": [
    {
     "data": {
      "text/plain": [
       "Line\n",
       "Aqua line            27.1\n",
       "Blue line            52.7\n",
       "Blue line branch      8.1\n",
       "Gray line             3.9\n",
       "Green line           24.8\n",
       "Green line branch     2.1\n",
       "Magenta line         33.1\n",
       "Orange line          20.8\n",
       "Pink line            52.6\n",
       "Rapid Metro          10.0\n",
       "Red line             32.7\n",
       "Voilet line          43.5\n",
       "Yellow line          45.7\n",
       "Name: Distance from Start (km), dtype: float64"
      ]
     },
     "execution_count": 245,
     "metadata": {},
     "output_type": "execute_result"
    }
   ],
   "source": [
    "line_data=metro_df.groupby('Line')['Station ID'].size()\n",
    "dist_coverage=metro_df.groupby('Line')['Distance from Start (km)'].max()\n",
    "dist_coverage"
   ]
  },
  {
   "cell_type": "code",
   "execution_count": 261,
   "id": "37d89f0c",
   "metadata": {},
   "outputs": [],
   "source": [
    "line_df=pd.DataFrame({\"No. of stations\": line_data,\n",
    "                    \"Distance covered\": dist_coverage.values})\n",
    "line_df['Average Distance']=line_df['Distance covered']/(line_df['No. of stations']-1).round(2)"
   ]
  },
  {
   "cell_type": "code",
   "execution_count": 262,
   "id": "ceffe6ac",
   "metadata": {},
   "outputs": [
    {
     "data": {
      "text/html": [
       "<div>\n",
       "<style scoped>\n",
       "    .dataframe tbody tr th:only-of-type {\n",
       "        vertical-align: middle;\n",
       "    }\n",
       "\n",
       "    .dataframe tbody tr th {\n",
       "        vertical-align: top;\n",
       "    }\n",
       "\n",
       "    .dataframe thead th {\n",
       "        text-align: right;\n",
       "    }\n",
       "</style>\n",
       "<table border=\"1\" class=\"dataframe\">\n",
       "  <thead>\n",
       "    <tr style=\"text-align: right;\">\n",
       "      <th></th>\n",
       "      <th>No. of stations</th>\n",
       "      <th>Distance covered</th>\n",
       "      <th>Average Distance</th>\n",
       "    </tr>\n",
       "    <tr>\n",
       "      <th>Line</th>\n",
       "      <th></th>\n",
       "      <th></th>\n",
       "      <th></th>\n",
       "    </tr>\n",
       "  </thead>\n",
       "  <tbody>\n",
       "    <tr>\n",
       "      <th>Aqua line</th>\n",
       "      <td>21</td>\n",
       "      <td>27.1</td>\n",
       "      <td>1.355000</td>\n",
       "    </tr>\n",
       "    <tr>\n",
       "      <th>Blue line</th>\n",
       "      <td>49</td>\n",
       "      <td>52.7</td>\n",
       "      <td>1.097917</td>\n",
       "    </tr>\n",
       "    <tr>\n",
       "      <th>Blue line branch</th>\n",
       "      <td>8</td>\n",
       "      <td>8.1</td>\n",
       "      <td>1.157143</td>\n",
       "    </tr>\n",
       "    <tr>\n",
       "      <th>Gray line</th>\n",
       "      <td>3</td>\n",
       "      <td>3.9</td>\n",
       "      <td>1.950000</td>\n",
       "    </tr>\n",
       "    <tr>\n",
       "      <th>Green line</th>\n",
       "      <td>21</td>\n",
       "      <td>24.8</td>\n",
       "      <td>1.240000</td>\n",
       "    </tr>\n",
       "    <tr>\n",
       "      <th>Green line branch</th>\n",
       "      <td>3</td>\n",
       "      <td>2.1</td>\n",
       "      <td>1.050000</td>\n",
       "    </tr>\n",
       "    <tr>\n",
       "      <th>Magenta line</th>\n",
       "      <td>25</td>\n",
       "      <td>33.1</td>\n",
       "      <td>1.379167</td>\n",
       "    </tr>\n",
       "    <tr>\n",
       "      <th>Orange line</th>\n",
       "      <td>6</td>\n",
       "      <td>20.8</td>\n",
       "      <td>4.160000</td>\n",
       "    </tr>\n",
       "    <tr>\n",
       "      <th>Pink line</th>\n",
       "      <td>38</td>\n",
       "      <td>52.6</td>\n",
       "      <td>1.421622</td>\n",
       "    </tr>\n",
       "    <tr>\n",
       "      <th>Rapid Metro</th>\n",
       "      <td>11</td>\n",
       "      <td>10.0</td>\n",
       "      <td>1.000000</td>\n",
       "    </tr>\n",
       "    <tr>\n",
       "      <th>Red line</th>\n",
       "      <td>29</td>\n",
       "      <td>32.7</td>\n",
       "      <td>1.167857</td>\n",
       "    </tr>\n",
       "    <tr>\n",
       "      <th>Voilet line</th>\n",
       "      <td>34</td>\n",
       "      <td>43.5</td>\n",
       "      <td>1.318182</td>\n",
       "    </tr>\n",
       "    <tr>\n",
       "      <th>Yellow line</th>\n",
       "      <td>37</td>\n",
       "      <td>45.7</td>\n",
       "      <td>1.269444</td>\n",
       "    </tr>\n",
       "  </tbody>\n",
       "</table>\n",
       "</div>"
      ],
      "text/plain": [
       "                   No. of stations  Distance covered  Average Distance\n",
       "Line                                                                  \n",
       "Aqua line                       21              27.1          1.355000\n",
       "Blue line                       49              52.7          1.097917\n",
       "Blue line branch                 8               8.1          1.157143\n",
       "Gray line                        3               3.9          1.950000\n",
       "Green line                      21              24.8          1.240000\n",
       "Green line branch                3               2.1          1.050000\n",
       "Magenta line                    25              33.1          1.379167\n",
       "Orange line                      6              20.8          4.160000\n",
       "Pink line                       38              52.6          1.421622\n",
       "Rapid Metro                     11              10.0          1.000000\n",
       "Red line                        29              32.7          1.167857\n",
       "Voilet line                     34              43.5          1.318182\n",
       "Yellow line                     37              45.7          1.269444"
      ]
     },
     "execution_count": 262,
     "metadata": {},
     "output_type": "execute_result"
    }
   ],
   "source": [
    "line_df"
   ]
  },
  {
   "cell_type": "code",
   "execution_count": 265,
   "id": "cfc2cac2",
   "metadata": {},
   "outputs": [
    {
     "data": {
      "image/png": "[encoded data removed]",
      "text/plain": [
       "<Figure size 2400x1200 with 2 Axes>"
      ]
     },
     "metadata": {},
     "output_type": "display_data"
    }
   ],
   "source": [
    "plt.figure(figsize=(24,12))\n",
    "plt.subplot(1,2,1)\n",
    "sns.barplot(data=line_df,y=line_df.index,x='No. of stations',palette='viridis')\n",
    "plt.subplot(1,2,2)\n",
    "sns.barplot(data=line_df,y=line_df.index,x='Average Distance',palette='magma')\n",
    "plt.xlabel(\"Average distance between stations\")\n",
    "plt.show()"
   ]
  },
  {
   "cell_type": "code",
   "execution_count": 266,
   "id": "4e0eb920",
   "metadata": {},
   "outputs": [
    {
     "data": {
      "text/html": [
       "<div>\n",
       "<style scoped>\n",
       "    .dataframe tbody tr th:only-of-type {\n",
       "        vertical-align: middle;\n",
       "    }\n",
       "\n",
       "    .dataframe tbody tr th {\n",
       "        vertical-align: top;\n",
       "    }\n",
       "\n",
       "    .dataframe thead th {\n",
       "        text-align: right;\n",
       "    }\n",
       "</style>\n",
       "<table border=\"1\" class=\"dataframe\">\n",
       "  <thead>\n",
       "    <tr style=\"text-align: right;\">\n",
       "      <th></th>\n",
       "      <th>Station ID</th>\n",
       "      <th>Station Name</th>\n",
       "      <th>Distance from Start (km)</th>\n",
       "      <th>Line</th>\n",
       "      <th>Opening Date</th>\n",
       "      <th>Station Layout</th>\n",
       "      <th>Latitude</th>\n",
       "      <th>Longitude</th>\n",
       "      <th>Year</th>\n",
       "    </tr>\n",
       "  </thead>\n",
       "  <tbody>\n",
       "    <tr>\n",
       "      <th>72</th>\n",
       "      <td>73</td>\n",
       "      <td>IGI Airport</td>\n",
       "      <td>17.9</td>\n",
       "      <td>Orange line</td>\n",
       "      <td>2011-02-23</td>\n",
       "      <td>Underground</td>\n",
       "      <td>28.55693</td>\n",
       "      <td>77.08669</td>\n",
       "      <td>2011</td>\n",
       "    </tr>\n",
       "    <tr>\n",
       "      <th>94</th>\n",
       "      <td>95</td>\n",
       "      <td>Delhi Aerocity</td>\n",
       "      <td>14.5</td>\n",
       "      <td>Orange line</td>\n",
       "      <td>2011-08-15</td>\n",
       "      <td>Underground</td>\n",
       "      <td>28.54881</td>\n",
       "      <td>77.12092</td>\n",
       "      <td>2011</td>\n",
       "    </tr>\n",
       "    <tr>\n",
       "      <th>107</th>\n",
       "      <td>108</td>\n",
       "      <td>Shivaji Stadium</td>\n",
       "      <td>1.9</td>\n",
       "      <td>Orange line</td>\n",
       "      <td>2011-02-23</td>\n",
       "      <td>Underground</td>\n",
       "      <td>28.62901</td>\n",
       "      <td>77.21190</td>\n",
       "      <td>2011</td>\n",
       "    </tr>\n",
       "    <tr>\n",
       "      <th>172</th>\n",
       "      <td>173</td>\n",
       "      <td>Dhaula Kuan [Conn: Pink]</td>\n",
       "      <td>8.3</td>\n",
       "      <td>Orange line</td>\n",
       "      <td>2011-08-15</td>\n",
       "      <td>Elevated</td>\n",
       "      <td>28.59178</td>\n",
       "      <td>77.16155</td>\n",
       "      <td>2011</td>\n",
       "    </tr>\n",
       "    <tr>\n",
       "      <th>249</th>\n",
       "      <td>250</td>\n",
       "      <td>New Delhi-Airport Express [Conn: Yellow]</td>\n",
       "      <td>0.0</td>\n",
       "      <td>Orange line</td>\n",
       "      <td>2011-02-23</td>\n",
       "      <td>Underground</td>\n",
       "      <td>28.64307</td>\n",
       "      <td>77.22144</td>\n",
       "      <td>2011</td>\n",
       "    </tr>\n",
       "    <tr>\n",
       "      <th>278</th>\n",
       "      <td>279</td>\n",
       "      <td>Dwarka Sector 21 [Conn: Blue]</td>\n",
       "      <td>20.8</td>\n",
       "      <td>Orange line</td>\n",
       "      <td>2011-02-23</td>\n",
       "      <td>Underground</td>\n",
       "      <td>28.55226</td>\n",
       "      <td>77.05828</td>\n",
       "      <td>2011</td>\n",
       "    </tr>\n",
       "  </tbody>\n",
       "</table>\n",
       "</div>"
      ],
      "text/plain": [
       "     Station ID                              Station Name  \\\n",
       "72           73                               IGI Airport   \n",
       "94           95                            Delhi Aerocity   \n",
       "107         108                           Shivaji Stadium   \n",
       "172         173                  Dhaula Kuan [Conn: Pink]   \n",
       "249         250  New Delhi-Airport Express [Conn: Yellow]   \n",
       "278         279             Dwarka Sector 21 [Conn: Blue]   \n",
       "\n",
       "     Distance from Start (km)         Line Opening Date Station Layout  \\\n",
       "72                       17.9  Orange line   2011-02-23    Underground   \n",
       "94                       14.5  Orange line   2011-08-15    Underground   \n",
       "107                       1.9  Orange line   2011-02-23    Underground   \n",
       "172                       8.3  Orange line   2011-08-15       Elevated   \n",
       "249                       0.0  Orange line   2011-02-23    Underground   \n",
       "278                      20.8  Orange line   2011-02-23    Underground   \n",
       "\n",
       "     Latitude  Longitude  Year  \n",
       "72   28.55693   77.08669  2011  \n",
       "94   28.54881   77.12092  2011  \n",
       "107  28.62901   77.21190  2011  \n",
       "172  28.59178   77.16155  2011  \n",
       "249  28.64307   77.22144  2011  \n",
       "278  28.55226   77.05828  2011  "
      ]
     },
     "execution_count": 266,
     "metadata": {},
     "output_type": "execute_result"
    }
   ],
   "source": [
    "metro_df[metro_df['Line']=='Orange line']"
   ]
  },
  {
   "cell_type": "code",
   "execution_count": null,
   "id": "561a749c",
   "metadata": {},
   "outputs": [],
   "source": []
  }
 ],
 "metadata": {
  "kernelspec": {
   "display_name": "Python 3 (ipykernel)",
   "language": "python",
   "name": "python3"
  },
  "language_info": {
   "codemirror_mode": {
    "name": "ipython",
    "version": 3
   },
   "file_extension": ".py",
   "mimetype": "text/x-python",
   "name": "python",
   "nbconvert_exporter": "python",
   "pygments_lexer": "ipython3",
   "version": "3.11.5"
  }
 },
 "nbformat": 4,
 "nbformat_minor": 5
}
